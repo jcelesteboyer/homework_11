{
 "cells": [
  {
   "cell_type": "code",
   "execution_count": 2,
   "id": "dffb5b94",
   "metadata": {},
   "outputs": [
    {
     "name": "stdout",
     "output_type": "stream",
     "text": [
      "10\n"
     ]
    }
   ],
   "source": [
    "# recursive function to calculate multiplication of two numbers\n",
    "def product( x , y ):\n",
    "    # if x is less than y swap the numbers\n",
    "    if x < y:\n",
    "        return product(y, x)\n",
    "    # iteratively calculate y times sum of x\n",
    "    elif y != 0:\n",
    "        return (x + product(x, y - 1))\n",
    "    # if either of the numbers is zero return 0.\n",
    "    else:\n",
    "        return 0\n",
    "\n",
    "# Call my function:\n",
    "x = 5\n",
    "y = 2\n",
    "print(product(x, y))"
   ]
  },
  {
   "cell_type": "code",
   "execution_count": 3,
   "id": "e7a48dca",
   "metadata": {},
   "outputs": [
    {
     "name": "stdout",
     "output_type": "stream",
     "text": [
      "0\n"
     ]
    }
   ],
   "source": [
    "x = 5\n",
    "y = 0\n",
    "print(product(x, y))"
   ]
  },
  {
   "cell_type": "markdown",
   "id": "d734d2d3",
   "metadata": {},
   "source": [
    "To preserve a variable use the global? "
   ]
  }
 ],
 "metadata": {
  "kernelspec": {
   "display_name": "Python 3 (ipykernel)",
   "language": "python",
   "name": "python3"
  },
  "language_info": {
   "codemirror_mode": {
    "name": "ipython",
    "version": 3
   },
   "file_extension": ".py",
   "mimetype": "text/x-python",
   "name": "python",
   "nbconvert_exporter": "python",
   "pygments_lexer": "ipython3",
   "version": "3.9.7"
  }
 },
 "nbformat": 4,
 "nbformat_minor": 5
}
