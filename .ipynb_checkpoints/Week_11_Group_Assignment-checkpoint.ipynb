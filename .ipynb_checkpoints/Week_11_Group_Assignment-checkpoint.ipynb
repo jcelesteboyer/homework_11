{
 "cells": [
  {
   "cell_type": "markdown",
   "id": "e666efac",
   "metadata": {},
   "source": [
    "# Week 11 In Class Assignment"
   ]
  },
  {
   "cell_type": "markdown",
   "id": "28106b09",
   "metadata": {},
   "source": [
    "1. Explore Google Trends https://trends.google.com/ . Find a topic of interest to you with more than a year of trend data, and export it.\n",
    "\n",
    "a. Import the data into a pandas dataframe\n",
    "\n",
    "b. Decide whether ARMA, ARIMA, or SARIMA makes more sense for the dataset\n",
    "\n",
    "c. Run either an ARMA, ARIMA, or SARIMA on it\n",
    "\n",
    "d. Explain the results\n",
    "\n",
    "e. Discuss your findings with your group and explain what trend someone else\n",
    " chose and why they chose the model they did"
   ]
  },
  {
   "cell_type": "code",
   "execution_count": 5,
   "id": "c54a63d8",
   "metadata": {},
   "outputs": [
    {
     "data": {
      "text/html": [
       "<div>\n",
       "<style scoped>\n",
       "    .dataframe tbody tr th:only-of-type {\n",
       "        vertical-align: middle;\n",
       "    }\n",
       "\n",
       "    .dataframe tbody tr th {\n",
       "        vertical-align: top;\n",
       "    }\n",
       "\n",
       "    .dataframe thead th {\n",
       "        text-align: right;\n",
       "    }\n",
       "</style>\n",
       "<table border=\"1\" class=\"dataframe\">\n",
       "  <thead>\n",
       "    <tr style=\"text-align: right;\">\n",
       "      <th></th>\n",
       "      <th>Taylor Swift: (United States)</th>\n",
       "      <th>Kim Kardashian: (United States)</th>\n",
       "    </tr>\n",
       "    <tr>\n",
       "      <th>Week</th>\n",
       "      <th></th>\n",
       "      <th></th>\n",
       "    </tr>\n",
       "  </thead>\n",
       "  <tbody>\n",
       "    <tr>\n",
       "      <th>2016-12-04</th>\n",
       "      <td>20</td>\n",
       "      <td>30</td>\n",
       "    </tr>\n",
       "    <tr>\n",
       "      <th>2016-12-11</th>\n",
       "      <td>21</td>\n",
       "      <td>30</td>\n",
       "    </tr>\n",
       "    <tr>\n",
       "      <th>2016-12-18</th>\n",
       "      <td>19</td>\n",
       "      <td>27</td>\n",
       "    </tr>\n",
       "    <tr>\n",
       "      <th>2016-12-25</th>\n",
       "      <td>20</td>\n",
       "      <td>30</td>\n",
       "    </tr>\n",
       "    <tr>\n",
       "      <th>2017-01-01</th>\n",
       "      <td>18</td>\n",
       "      <td>31</td>\n",
       "    </tr>\n",
       "  </tbody>\n",
       "</table>\n",
       "</div>"
      ],
      "text/plain": [
       "            Taylor Swift: (United States)  Kim Kardashian: (United States)\n",
       "Week                                                                      \n",
       "2016-12-04                             20                               30\n",
       "2016-12-11                             21                               30\n",
       "2016-12-18                             19                               27\n",
       "2016-12-25                             20                               30\n",
       "2017-01-01                             18                               31"
      ]
     },
     "execution_count": 5,
     "metadata": {},
     "output_type": "execute_result"
    }
   ],
   "source": [
    "import pandas as pd\n",
    "import matplotlib.pyplot as plt\n",
    "import numpy as np\n",
    "import os\n",
    "from statsmodels.graphics.tsaplots import plot_acf, plot_pacf\n",
    "\n",
    "df = pd.read_csv(\"multiTimeline.csv\",parse_dates=True, index_col='Week')\n",
    "df.head()"
   ]
  },
  {
   "cell_type": "code",
   "execution_count": 6,
   "id": "6f5450c9",
   "metadata": {},
   "outputs": [
    {
     "data": {
      "text/plain": [
       "[<matplotlib.lines.Line2D at 0x7f9464b3ac10>]"
      ]
     },
     "execution_count": 6,
     "metadata": {},
     "output_type": "execute_result"
    },
    {
     "data": {
      "image/png": "[encoded data removed]",
      "text/plain": [
       "<Figure size 432x288 with 1 Axes>"
      ]
     },
     "metadata": {
      "needs_background": "light"
     },
     "output_type": "display_data"
    }
   ],
   "source": [
    "# Renaming the columns so they aren't so burdensome to type. \n",
    "# Then checking to see if this data series is stationary. \n",
    "df.rename(columns={'Taylor Swift: (United States)': 'Taylor Swift', 'Kim Kardashian: (United States)': 'Kim Kardashian'}, inplace=True)\n",
    "plt.plot(df.index, df['Taylor Swift'])\n",
    "# "
   ]
  },
  {
   "cell_type": "code",
   "execution_count": null,
   "id": "7847e28c",
   "metadata": {},
   "outputs": [],
   "source": []
  },
  {
   "cell_type": "code",
   "execution_count": null,
   "id": "9e63a419",
   "metadata": {},
   "outputs": [],
   "source": []
  }
 ],
 "metadata": {
  "kernelspec": {
   "display_name": "Python 3 (ipykernel)",
   "language": "python",
   "name": "python3"
  },
  "language_info": {
   "codemirror_mode": {
    "name": "ipython",
    "version": 3
   },
   "file_extension": ".py",
   "mimetype": "text/x-python",
   "name": "python",
   "nbconvert_exporter": "python",
   "pygments_lexer": "ipython3",
   "version": "3.9.7"
  }
 },
 "nbformat": 4,
 "nbformat_minor": 5
}
