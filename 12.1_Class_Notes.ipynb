{
 "cells": [
  {
   "cell_type": "markdown",
   "id": "4c2af39d",
   "metadata": {},
   "source": [
    "# Time series Analysis: \n",
    "Time series data - sequence of data taken at points in time (ideally eually spaced.)\n",
    "Stochastic - random; processes generating timeseries data, where the values evolve in time based on laws of probability. \n",
    "Many statistical models for analyzing timeseries data:\n",
    "-SES\n",
    "-ARMA\n",
    "-ARIMA\n",
    "-SARMA"
   ]
  },
  {
   "cell_type": "markdown",
   "id": "3942b57c",
   "metadata": {},
   "source": [
    "Exponential Smoothing (ES): \n",
    "Used when there is no clear trend or pattern. \n",
    "Controls rate by which the influence of recent values decays expoentially. (not by recent events)\n",
    "Damping factor (alpha) - a value from 0-1, with 1 indicating more attention is paid to recent values and 0 indicating attention is paid to the history of the series. \n"
   ]
  },
  {
   "cell_type": "markdown",
   "id": "5cbd64cb",
   "metadata": {},
   "source": [
    "Autoregression (AR): \n",
    "AR models use input from previous steps in time, where the past steps are inp9ut into a regression model to predict the next step. \n",
    "Assumption is that past events are useful for predicting future ones, that there is some correlation between past and future. \n",
    "Lag (also called \"backshift\") - past series values, important "
   ]
  },
  {
   "cell_type": "markdown",
   "id": "eeda2ddf",
   "metadata": {},
   "source": [
    "Order of Integration (I): \n",
    "Used to make a series stationary.  \n",
    "How: subtract an observation from the observation at the prvious time step. \n",
    "Stationaryity - statical processes that govern the way a timeseries dataset changes over time do not themselves change. "
   ]
  },
  {
   "cell_type": "markdown",
   "id": "6a911749",
   "metadata": {},
   "source": [
    "Moving Average (MA):\n",
    "Helps smooth out data over a particular time period by creating a constantly averaged value. \n",
    "Calculated by adding up all the values over a chosen time period and diving by number of values. adding up all the values and dividing by the number of values?\n"
   ]
  },
  {
   "cell_type": "markdown",
   "id": "7835c389",
   "metadata": {},
   "source": [
    "Seasonality (S): Pattern that occurs at a regular interval\n",
    "Can be additive or multiplicative. \n",
    "Can decompose the data to understand the seasonality component. \n"
   ]
  },
  {
   "cell_type": "markdown",
   "id": "f11f8117",
   "metadata": {},
   "source": [
    "parsimonious"
   ]
  },
  {
   "cell_type": "markdown",
   "id": "0e9c6caa",
   "metadata": {},
   "source": [
    "decomposing - subtracting how many times the time series has run???"
   ]
  },
  {
   "cell_type": "code",
   "execution_count": 1,
   "id": "ca60b678",
   "metadata": {},
   "outputs": [
    {
     "ename": "ModuleNotFoundError",
     "evalue": "No module named 'plotly'",
     "output_type": "error",
     "traceback": [
      "\u001b[0;31m---------------------------------------------------------------------------\u001b[0m",
      "\u001b[0;31mModuleNotFoundError\u001b[0m                       Traceback (most recent call last)",
      "\u001b[0;32m/var/folders/zx/rtlkvk155rx_pz72fst65zhh0000gn/T/ipykernel_7331/109962311.py\u001b[0m in \u001b[0;36m<module>\u001b[0;34m\u001b[0m\n\u001b[1;32m      3\u001b[0m \u001b[0;32mimport\u001b[0m \u001b[0mnumpy\u001b[0m \u001b[0;32mas\u001b[0m \u001b[0mnp\u001b[0m\u001b[0;34m\u001b[0m\u001b[0;34m\u001b[0m\u001b[0m\n\u001b[1;32m      4\u001b[0m \u001b[0;32mimport\u001b[0m \u001b[0mos\u001b[0m\u001b[0;34m\u001b[0m\u001b[0;34m\u001b[0m\u001b[0m\n\u001b[0;32m----> 5\u001b[0;31m \u001b[0;32mimport\u001b[0m \u001b[0mplotly\u001b[0m\u001b[0;34m.\u001b[0m\u001b[0mexpress\u001b[0m \u001b[0;32mas\u001b[0m \u001b[0mpx\u001b[0m\u001b[0;34m\u001b[0m\u001b[0;34m\u001b[0m\u001b[0m\n\u001b[0m",
      "\u001b[0;31mModuleNotFoundError\u001b[0m: No module named 'plotly'"
     ]
    }
   ],
   "source": [
    "import pandas as pd\n",
    "import matplotlib.pyplot as plt\n",
    "import numpy as np\n",
    "import os\n",
    "import plotly.express as px"
   ]
  },
  {
   "cell_type": "code",
   "execution_count": null,
   "id": "90664f67",
   "metadata": {},
   "outputs": [],
   "source": []
  }
 ],
 "metadata": {
  "kernelspec": {
   "display_name": "Python 3 (ipykernel)",
   "language": "python",
   "name": "python3"
  },
  "language_info": {
   "codemirror_mode": {
    "name": "ipython",
    "version": 3
   },
   "file_extension": ".py",
   "mimetype": "text/x-python",
   "name": "python",
   "nbconvert_exporter": "python",
   "pygments_lexer": "ipython3",
   "version": "3.9.7"
  }
 },
 "nbformat": 4,
 "nbformat_minor": 5
}
